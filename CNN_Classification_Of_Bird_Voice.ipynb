{
 "cells": [
  {
   "cell_type": "code",
   "execution_count": 77,
   "id": "b049603e",
   "metadata": {},
   "outputs": [
    {
     "name": "stdout",
     "output_type": "stream",
     "text": [
      "success\n"
     ]
    }
   ],
   "source": [
    "import tensorflow as tf\n",
    "from keras.preprocessing.image import ImageDataGenerator\n",
    "print('success')"
   ]
  },
  {
   "cell_type": "code",
   "execution_count": 78,
   "id": "c3990bf8",
   "metadata": {},
   "outputs": [
    {
     "data": {
      "text/plain": [
       "'2.10.1'"
      ]
     },
     "execution_count": 78,
     "metadata": {},
     "output_type": "execute_result"
    }
   ],
   "source": [
    "tf.__version__"
   ]
  },
  {
   "cell_type": "code",
   "execution_count": 79,
   "id": "c446b6e4",
   "metadata": {},
   "outputs": [
    {
     "name": "stdout",
     "output_type": "stream",
     "text": [
      "Found 57 images belonging to 3 classes.\n"
     ]
    }
   ],
   "source": [
    "train_datagen = ImageDataGenerator(rescale = 1./255,\n",
    "                                   shear_range = 0.2,\n",
    "                                   zoom_range = 0.2,\n",
    "                                   horizontal_flip = True)\n",
    "training_set = train_datagen.flow_from_directory('Spectrogram/Class/train/',\n",
    "                                                 target_size = (64, 64),\n",
    "                                                 batch_size = 8,\n",
    "                                                 class_mode = 'categorical')"
   ]
  },
  {
   "cell_type": "code",
   "execution_count": 80,
   "id": "f97b8e43",
   "metadata": {},
   "outputs": [
    {
     "name": "stdout",
     "output_type": "stream",
     "text": [
      "Found 14 images belonging to 3 classes.\n"
     ]
    }
   ],
   "source": [
    "test_datagen = ImageDataGenerator(rescale = 1./255)\n",
    "test_set = test_datagen.flow_from_directory('Spectrogram/Class/test/',\n",
    "                                            target_size = (64, 64),\n",
    "                                            batch_size = 8,\n",
    "                                            class_mode = 'categorical')"
   ]
  },
  {
   "cell_type": "code",
   "execution_count": 85,
   "id": "bf4a7605",
   "metadata": {},
   "outputs": [],
   "source": [
    "cnn=tf.keras.Sequential()\n",
    "cnn.add(tf.keras.layers.Conv2D(filters=20,padding='same',strides=2,kernel_size=3,activation='relu',input_shape=(64,64,3)))\n",
    "cnn.add(tf.keras.layers.MaxPool2D(pool_size=2,strides=2))\n",
    "\n",
    "cnn.add(tf.keras.layers.Conv2D(filters=22,padding='same',strides=2,kernel_size=3,activation='relu'))\n",
    "cnn.add(tf.keras.layers.MaxPool2D(pool_size=2,strides=2))\n",
    "\n",
    "cnn.add(tf.keras.layers.Conv2D(filters=24,padding='same',strides=2,kernel_size=3,activation='relu'))\n",
    "cnn.add(tf.keras.layers.MaxPool2D(pool_size=2))\n",
    "\n",
    "cnn.add(tf.keras.layers.Flatten())\n",
    "cnn.add(tf.keras.layers.Dense(3,activation='softmax'))"
   ]
  },
  {
   "cell_type": "code",
   "execution_count": 86,
   "id": "df737abf",
   "metadata": {},
   "outputs": [],
   "source": [
    "cnn.compile(optimizer=tf.keras.optimizers.Adam(),loss='categorical_crossentropy',metrics=['accuracy'])"
   ]
  },
  {
   "cell_type": "code",
   "execution_count": 89,
   "id": "28970998",
   "metadata": {},
   "outputs": [
    {
     "name": "stdout",
     "output_type": "stream",
     "text": [
      "Epoch 1/50\n",
      "8/8 [==============================] - 1s 99ms/step - loss: 0.4725 - accuracy: 0.7895 - val_loss: 0.7007 - val_accuracy: 0.6429\n",
      "Epoch 2/50\n",
      "8/8 [==============================] - 1s 88ms/step - loss: 0.4311 - accuracy: 0.8070 - val_loss: 0.7061 - val_accuracy: 0.7143\n",
      "Epoch 3/50\n",
      "8/8 [==============================] - 1s 86ms/step - loss: 0.4600 - accuracy: 0.7895 - val_loss: 0.6543 - val_accuracy: 0.7143\n",
      "Epoch 4/50\n",
      "8/8 [==============================] - 1s 91ms/step - loss: 0.4019 - accuracy: 0.8596 - val_loss: 0.6401 - val_accuracy: 0.7143\n",
      "Epoch 5/50\n",
      "8/8 [==============================] - 1s 87ms/step - loss: 0.4442 - accuracy: 0.7719 - val_loss: 0.5848 - val_accuracy: 0.7143\n",
      "Epoch 6/50\n",
      "8/8 [==============================] - 1s 88ms/step - loss: 0.4301 - accuracy: 0.7895 - val_loss: 0.7175 - val_accuracy: 0.6429\n",
      "Epoch 7/50\n",
      "8/8 [==============================] - 1s 86ms/step - loss: 0.4842 - accuracy: 0.7895 - val_loss: 0.6882 - val_accuracy: 0.7143\n",
      "Epoch 8/50\n",
      "8/8 [==============================] - 1s 86ms/step - loss: 0.4276 - accuracy: 0.8246 - val_loss: 0.6299 - val_accuracy: 0.7143\n",
      "Epoch 9/50\n",
      "8/8 [==============================] - 1s 93ms/step - loss: 0.3728 - accuracy: 0.8246 - val_loss: 0.5648 - val_accuracy: 0.7143\n",
      "Epoch 10/50\n",
      "8/8 [==============================] - 1s 87ms/step - loss: 0.3778 - accuracy: 0.8421 - val_loss: 0.4765 - val_accuracy: 0.7143\n",
      "Epoch 11/50\n",
      "8/8 [==============================] - 1s 86ms/step - loss: 0.3569 - accuracy: 0.8772 - val_loss: 0.4895 - val_accuracy: 0.7857\n",
      "Epoch 12/50\n",
      "8/8 [==============================] - 1s 87ms/step - loss: 0.3455 - accuracy: 0.8421 - val_loss: 0.5117 - val_accuracy: 0.7857\n",
      "Epoch 13/50\n",
      "8/8 [==============================] - 1s 88ms/step - loss: 0.3320 - accuracy: 0.8246 - val_loss: 0.5177 - val_accuracy: 0.7143\n",
      "Epoch 14/50\n",
      "8/8 [==============================] - 1s 88ms/step - loss: 0.3537 - accuracy: 0.8596 - val_loss: 0.4866 - val_accuracy: 0.7857\n",
      "Epoch 15/50\n",
      "8/8 [==============================] - 1s 88ms/step - loss: 0.2955 - accuracy: 0.8596 - val_loss: 0.4601 - val_accuracy: 0.7857\n",
      "Epoch 16/50\n",
      "8/8 [==============================] - 1s 86ms/step - loss: 0.2742 - accuracy: 0.8772 - val_loss: 0.4556 - val_accuracy: 0.7857\n",
      "Epoch 17/50\n",
      "8/8 [==============================] - 1s 88ms/step - loss: 0.2674 - accuracy: 0.8772 - val_loss: 0.4462 - val_accuracy: 0.7857\n",
      "Epoch 18/50\n",
      "8/8 [==============================] - 1s 103ms/step - loss: 0.2884 - accuracy: 0.9298 - val_loss: 0.4069 - val_accuracy: 0.7857\n",
      "Epoch 19/50\n",
      "8/8 [==============================] - 1s 95ms/step - loss: 0.2997 - accuracy: 0.8947 - val_loss: 0.4125 - val_accuracy: 0.8571\n",
      "Epoch 20/50\n",
      "8/8 [==============================] - 1s 86ms/step - loss: 0.2881 - accuracy: 0.8947 - val_loss: 0.4450 - val_accuracy: 0.8571\n",
      "Epoch 21/50\n",
      "8/8 [==============================] - 1s 86ms/step - loss: 0.2596 - accuracy: 0.8947 - val_loss: 0.4120 - val_accuracy: 0.8571\n",
      "Epoch 22/50\n",
      "8/8 [==============================] - 1s 90ms/step - loss: 0.3168 - accuracy: 0.8596 - val_loss: 0.3895 - val_accuracy: 0.7857\n",
      "Epoch 23/50\n",
      "8/8 [==============================] - 1s 86ms/step - loss: 0.2421 - accuracy: 0.9298 - val_loss: 0.4423 - val_accuracy: 0.7143\n",
      "Epoch 24/50\n",
      "8/8 [==============================] - 1s 91ms/step - loss: 0.3254 - accuracy: 0.8772 - val_loss: 0.4824 - val_accuracy: 0.7143\n",
      "Epoch 25/50\n",
      "8/8 [==============================] - 1s 88ms/step - loss: 0.2965 - accuracy: 0.8596 - val_loss: 0.3611 - val_accuracy: 0.7857\n",
      "Epoch 26/50\n",
      "8/8 [==============================] - 1s 85ms/step - loss: 0.3097 - accuracy: 0.8596 - val_loss: 0.3389 - val_accuracy: 0.8571\n",
      "Epoch 27/50\n",
      "8/8 [==============================] - 1s 85ms/step - loss: 0.2270 - accuracy: 0.9298 - val_loss: 0.3575 - val_accuracy: 0.8571\n",
      "Epoch 28/50\n",
      "8/8 [==============================] - 1s 91ms/step - loss: 0.2230 - accuracy: 0.9298 - val_loss: 0.3437 - val_accuracy: 0.8571\n",
      "Epoch 29/50\n",
      "8/8 [==============================] - 1s 86ms/step - loss: 0.2397 - accuracy: 0.8947 - val_loss: 0.3532 - val_accuracy: 0.8571\n",
      "Epoch 30/50\n",
      "8/8 [==============================] - 1s 85ms/step - loss: 0.2185 - accuracy: 0.9123 - val_loss: 0.3491 - val_accuracy: 0.8571\n",
      "Epoch 31/50\n",
      "8/8 [==============================] - 1s 90ms/step - loss: 0.2100 - accuracy: 0.9298 - val_loss: 0.3120 - val_accuracy: 0.8571\n",
      "Epoch 32/50\n",
      "8/8 [==============================] - 1s 85ms/step - loss: 0.1974 - accuracy: 0.9649 - val_loss: 0.2736 - val_accuracy: 0.8571\n",
      "Epoch 33/50\n",
      "8/8 [==============================] - 1s 84ms/step - loss: 0.1852 - accuracy: 0.9474 - val_loss: 0.3316 - val_accuracy: 0.8571\n",
      "Epoch 34/50\n",
      "8/8 [==============================] - 1s 85ms/step - loss: 0.2143 - accuracy: 0.9123 - val_loss: 0.3278 - val_accuracy: 0.8571\n",
      "Epoch 35/50\n",
      "8/8 [==============================] - 1s 87ms/step - loss: 0.2725 - accuracy: 0.8421 - val_loss: 0.3138 - val_accuracy: 0.7857\n",
      "Epoch 36/50\n",
      "8/8 [==============================] - 1s 84ms/step - loss: 0.1960 - accuracy: 0.9123 - val_loss: 0.3414 - val_accuracy: 0.8571\n",
      "Epoch 37/50\n",
      "8/8 [==============================] - 1s 86ms/step - loss: 0.1787 - accuracy: 0.9474 - val_loss: 0.2726 - val_accuracy: 0.9286\n",
      "Epoch 38/50\n",
      "8/8 [==============================] - 1s 87ms/step - loss: 0.2549 - accuracy: 0.9123 - val_loss: 0.2730 - val_accuracy: 0.8571\n",
      "Epoch 39/50\n",
      "8/8 [==============================] - 1s 84ms/step - loss: 0.1967 - accuracy: 0.9298 - val_loss: 0.2922 - val_accuracy: 0.8571\n",
      "Epoch 40/50\n",
      "8/8 [==============================] - 1s 94ms/step - loss: 0.1912 - accuracy: 0.9123 - val_loss: 0.2640 - val_accuracy: 0.8571\n",
      "Epoch 41/50\n",
      "8/8 [==============================] - 1s 85ms/step - loss: 0.1716 - accuracy: 0.9474 - val_loss: 0.2769 - val_accuracy: 0.8571\n",
      "Epoch 42/50\n",
      "8/8 [==============================] - 1s 86ms/step - loss: 0.1822 - accuracy: 0.9474 - val_loss: 0.3183 - val_accuracy: 0.8571\n",
      "Epoch 43/50\n",
      "8/8 [==============================] - 1s 87ms/step - loss: 0.1198 - accuracy: 0.9649 - val_loss: 0.3137 - val_accuracy: 0.8571\n",
      "Epoch 44/50\n",
      "8/8 [==============================] - 1s 86ms/step - loss: 0.1845 - accuracy: 0.9474 - val_loss: 0.2435 - val_accuracy: 0.9286\n",
      "Epoch 45/50\n",
      "8/8 [==============================] - 1s 90ms/step - loss: 0.1825 - accuracy: 0.9474 - val_loss: 0.3463 - val_accuracy: 0.8571\n",
      "Epoch 46/50\n",
      "8/8 [==============================] - 1s 95ms/step - loss: 0.2139 - accuracy: 0.9298 - val_loss: 0.3454 - val_accuracy: 0.8571\n",
      "Epoch 47/50\n",
      "8/8 [==============================] - 1s 87ms/step - loss: 0.1959 - accuracy: 0.9474 - val_loss: 0.2596 - val_accuracy: 0.9286\n",
      "Epoch 48/50\n",
      "8/8 [==============================] - 1s 94ms/step - loss: 0.1313 - accuracy: 0.9649 - val_loss: 0.2712 - val_accuracy: 0.8571\n",
      "Epoch 49/50\n",
      "8/8 [==============================] - 1s 86ms/step - loss: 0.1298 - accuracy: 0.9825 - val_loss: 0.2916 - val_accuracy: 0.8571\n",
      "Epoch 50/50\n",
      "8/8 [==============================] - 1s 89ms/step - loss: 0.1385 - accuracy: 0.9474 - val_loss: 0.3342 - val_accuracy: 0.8571\n"
     ]
    },
    {
     "data": {
      "text/plain": [
       "<keras.callbacks.History at 0x271b565bc10>"
      ]
     },
     "execution_count": 89,
     "metadata": {},
     "output_type": "execute_result"
    }
   ],
   "source": [
    "cnn.fit(training_set,validation_data=test_set, epochs=50,)"
   ]
  },
  {
   "cell_type": "code",
   "execution_count": 90,
   "id": "d7ba82bd",
   "metadata": {},
   "outputs": [
    {
     "name": "stdout",
     "output_type": "stream",
     "text": [
      "2/2 - 0s - loss: 0.3342 - accuracy: 0.8571 - 151ms/epoch - 76ms/step\n",
      "Trained model, accuracy: 85.71%\n"
     ]
    }
   ],
   "source": [
    "# Evaluate the Model\n",
    "test_lavels = \"Test\"\n",
    "loss,acc = cnn.evaluate(test_set,verbose=2)\n",
    "print(\"Trained model, accuracy: {:5.2f}%\".format(100*acc))"
   ]
  },
  {
   "cell_type": "code",
   "execution_count": 96,
   "id": "59cee580",
   "metadata": {},
   "outputs": [
    {
     "name": "stdout",
     "output_type": "stream",
     "text": [
      "1/1 [==============================] - 0s 18ms/step\n",
      "Ashy_Prinia\n"
     ]
    }
   ],
   "source": [
    "import numpy as np\n",
    "from keras.utils import image_utils\n",
    "test_image = image_utils.load_img('Spectrogram/Class/valid/1.png', target_size = (64, 64))\n",
    "test_image = image_utils.img_to_array(test_image)\n",
    "test_image = np.expand_dims(test_image, axis = 0)\n",
    "result = cnn.predict(test_image)\n",
    "training_set.class_indices\n",
    "if result[0][1] == 1:\n",
    "    print(\"Coppersmith_Barbet\")\n",
    "elif result[0][0] == 1:\n",
    "    print(\"Ashy_Prinia\")\n",
    "elif result[0][2] == 1:\n",
    "    print(\"Indian_Grey_Hornbill\")"
   ]
  },
  {
   "cell_type": "code",
   "execution_count": null,
   "id": "d96608b2",
   "metadata": {},
   "outputs": [],
   "source": []
  }
 ],
 "metadata": {
  "kernelspec": {
   "display_name": "Python 3 (ipykernel)",
   "language": "python",
   "name": "python3"
  },
  "language_info": {
   "codemirror_mode": {
    "name": "ipython",
    "version": 3
   },
   "file_extension": ".py",
   "mimetype": "text/x-python",
   "name": "python",
   "nbconvert_exporter": "python",
   "pygments_lexer": "ipython3",
   "version": "3.10.6"
  }
 },
 "nbformat": 4,
 "nbformat_minor": 5
}
