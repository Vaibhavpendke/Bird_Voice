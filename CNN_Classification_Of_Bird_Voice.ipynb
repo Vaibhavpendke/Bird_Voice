{
 "cells": [
  {
   "cell_type": "code",
   "execution_count": 77,
   "id": "44b15cf5",
   "metadata": {},
   "outputs": [
    {
     "name": "stdout",
     "output_type": "stream",
     "text": [
      "success\n"
     ]
    }
   ],
   "source": [
    "import tensorflow as tf\n",
    "from keras.preprocessing.image import ImageDataGenerator\n",
    "print('success')"
   ]
  },
  {
   "cell_type": "code",
   "execution_count": 78,
   "id": "cef189be",
   "metadata": {},
   "outputs": [
    {
     "data": {
      "text/plain": [
       "'2.10.1'"
      ]
     },
     "execution_count": 78,
     "metadata": {},
     "output_type": "execute_result"
    }
   ],
   "source": [
    "tf.__version__"
   ]
  },
  {
   "cell_type": "code",
   "execution_count": 79,
   "id": "21019f5b",
   "metadata": {},
   "outputs": [
    {
     "name": "stdout",
     "output_type": "stream",
     "text": [
      "Found 57 images belonging to 3 classes.\n"
     ]
    }
   ],
   "source": [
    "train_datagen = ImageDataGenerator(rescale = 1./255,\n",
    "                                   shear_range = 0.2,\n",
    "                                   zoom_range = 0.2,\n",
    "                                   horizontal_flip = True)\n",
    "training_set = train_datagen.flow_from_directory('Spectrogram/Class/train/',\n",
    "                                                 target_size = (64, 64),\n",
    "                                                 batch_size = 8,\n",
    "                                                 class_mode = 'categorical')"
   ]
  },
  {
   "cell_type": "code",
   "execution_count": 80,
   "id": "82ef0d83",
   "metadata": {},
   "outputs": [
    {
     "name": "stdout",
     "output_type": "stream",
     "text": [
      "Found 14 images belonging to 3 classes.\n"
     ]
    }
   ],
   "source": [
    "test_datagen = ImageDataGenerator(rescale = 1./255)\n",
    "test_set = test_datagen.flow_from_directory('Spectrogram/Class/test/',\n",
    "                                            target_size = (64, 64),\n",
    "                                            batch_size = 8,\n",
    "                                            class_mode = 'categorical')"
   ]
  },
  {
   "cell_type": "code",
   "execution_count": 85,
   "id": "a07d86a0",
   "metadata": {},
   "outputs": [],
   "source": [
    "cnn=tf.keras.Sequential()\n",
    "cnn.add(tf.keras.layers.Conv2D(filters=20,padding='same',strides=2,kernel_size=3,activation='relu',input_shape=(64,64,3)))\n",
    "cnn.add(tf.keras.layers.MaxPool2D(pool_size=2,strides=2))\n",
    "\n",
    "cnn.add(tf.keras.layers.Conv2D(filters=22,padding='same',strides=2,kernel_size=3,activation='relu'))\n",
    "cnn.add(tf.keras.layers.MaxPool2D(pool_size=2,strides=2))\n",
    "\n",
    "cnn.add(tf.keras.layers.Conv2D(filters=24,padding='same',strides=2,kernel_size=3,activation='relu'))\n",
    "cnn.add(tf.keras.layers.MaxPool2D(pool_size=2))\n",
    "\n",
    "cnn.add(tf.keras.layers.Flatten())\n",
    "cnn.add(tf.keras.layers.Dense(3,activation='softmax'))"
   ]
  },
  {
   "cell_type": "code",
   "execution_count": 86,
   "id": "d9054c31",
   "metadata": {},
   "outputs": [],
   "source": [
    "cnn.compile(optimizer=tf.keras.optimizers.Adam(),loss='categorical_crossentropy',metrics=['accuracy'])"
   ]
  },
  {
   "cell_type": "code",
   "execution_count": 87,
   "id": "b7135e23",
   "metadata": {},
   "outputs": [
    {
     "name": "stdout",
     "output_type": "stream",
     "text": [
      "Epoch 1/20\n",
      "8/8 [==============================] - 1s 123ms/step - loss: 1.2425 - accuracy: 0.2456 - val_loss: 1.0936 - val_accuracy: 0.3571\n",
      "Epoch 2/20\n",
      "8/8 [==============================] - 1s 85ms/step - loss: 1.0515 - accuracy: 0.5263 - val_loss: 1.0852 - val_accuracy: 0.3571\n",
      "Epoch 3/20\n",
      "8/8 [==============================] - 1s 86ms/step - loss: 0.9983 - accuracy: 0.5789 - val_loss: 1.1428 - val_accuracy: 0.3571\n",
      "Epoch 4/20\n",
      "8/8 [==============================] - 1s 85ms/step - loss: 0.9629 - accuracy: 0.5789 - val_loss: 1.1234 - val_accuracy: 0.3571\n",
      "Epoch 5/20\n",
      "8/8 [==============================] - 1s 85ms/step - loss: 0.9343 - accuracy: 0.5789 - val_loss: 1.1130 - val_accuracy: 0.3571\n",
      "Epoch 6/20\n",
      "8/8 [==============================] - 1s 83ms/step - loss: 0.9100 - accuracy: 0.5789 - val_loss: 1.0679 - val_accuracy: 0.3571\n",
      "Epoch 7/20\n",
      "8/8 [==============================] - 1s 85ms/step - loss: 0.8903 - accuracy: 0.5965 - val_loss: 1.0605 - val_accuracy: 0.3571\n",
      "Epoch 8/20\n",
      "8/8 [==============================] - 1s 95ms/step - loss: 0.8422 - accuracy: 0.6140 - val_loss: 1.0384 - val_accuracy: 0.7143\n",
      "Epoch 9/20\n",
      "8/8 [==============================] - 1s 85ms/step - loss: 0.8447 - accuracy: 0.7018 - val_loss: 1.0067 - val_accuracy: 0.7143\n",
      "Epoch 10/20\n",
      "8/8 [==============================] - 1s 84ms/step - loss: 0.8322 - accuracy: 0.7018 - val_loss: 1.0445 - val_accuracy: 0.5000\n",
      "Epoch 11/20\n",
      "8/8 [==============================] - 1s 87ms/step - loss: 0.7720 - accuracy: 0.6842 - val_loss: 0.9393 - val_accuracy: 0.7143\n",
      "Epoch 12/20\n",
      "8/8 [==============================] - 1s 87ms/step - loss: 0.6992 - accuracy: 0.7719 - val_loss: 0.8857 - val_accuracy: 0.7143\n",
      "Epoch 13/20\n",
      "8/8 [==============================] - 1s 87ms/step - loss: 0.6418 - accuracy: 0.7719 - val_loss: 0.8605 - val_accuracy: 0.7143\n",
      "Epoch 14/20\n",
      "8/8 [==============================] - 1s 90ms/step - loss: 0.6346 - accuracy: 0.7544 - val_loss: 0.8322 - val_accuracy: 0.6429\n",
      "Epoch 15/20\n",
      "8/8 [==============================] - 1s 98ms/step - loss: 0.5688 - accuracy: 0.7719 - val_loss: 0.7826 - val_accuracy: 0.7143\n",
      "Epoch 16/20\n",
      "8/8 [==============================] - 1s 87ms/step - loss: 0.5435 - accuracy: 0.7895 - val_loss: 0.7844 - val_accuracy: 0.6429\n",
      "Epoch 17/20\n",
      "8/8 [==============================] - 1s 86ms/step - loss: 0.5087 - accuracy: 0.7895 - val_loss: 0.7290 - val_accuracy: 0.7143\n",
      "Epoch 18/20\n",
      "8/8 [==============================] - 1s 85ms/step - loss: 0.5510 - accuracy: 0.7719 - val_loss: 0.7932 - val_accuracy: 0.6429\n",
      "Epoch 19/20\n",
      "8/8 [==============================] - 1s 87ms/step - loss: 0.4899 - accuracy: 0.7719 - val_loss: 0.7332 - val_accuracy: 0.6429\n",
      "Epoch 20/20\n",
      "8/8 [==============================] - 1s 86ms/step - loss: 0.4603 - accuracy: 0.7895 - val_loss: 0.7081 - val_accuracy: 0.7143\n"
     ]
    },
    {
     "data": {
      "text/plain": [
       "<keras.callbacks.History at 0x271b565b640>"
      ]
     },
     "execution_count": 87,
     "metadata": {},
     "output_type": "execute_result"
    }
   ],
   "source": [
    "cnn.fit(training_set,validation_data=test_set, epochs=20,)"
   ]
  },
  {
   "cell_type": "code",
   "execution_count": 88,
   "id": "46dbd058",
   "metadata": {},
   "outputs": [
    {
     "name": "stdout",
     "output_type": "stream",
     "text": [
      "2/2 - 0s - loss: 0.7081 - accuracy: 0.7143 - 143ms/epoch - 71ms/step\n",
      "Trained model, accuracy: 71.43%\n"
     ]
    }
   ],
   "source": [
    "# Evaluate the Model\n",
    "test_lavels = \"Test\"\n",
    "loss,acc = cnn.evaluate(test_set,verbose=2)\n",
    "print(\"Trained model, accuracy: {:5.2f}%\".format(100*acc))"
   ]
  },
  {
   "cell_type": "code",
   "execution_count": null,
   "id": "af91533d",
   "metadata": {},
   "outputs": [],
   "source": []
  }
 ],
 "metadata": {
  "kernelspec": {
   "display_name": "Python 3 (ipykernel)",
   "language": "python",
   "name": "python3"
  },
  "language_info": {
   "codemirror_mode": {
    "name": "ipython",
    "version": 3
   },
   "file_extension": ".py",
   "mimetype": "text/x-python",
   "name": "python",
   "nbconvert_exporter": "python",
   "pygments_lexer": "ipython3",
   "version": "3.10.6"
  }
 },
 "nbformat": 4,
 "nbformat_minor": 5
}
