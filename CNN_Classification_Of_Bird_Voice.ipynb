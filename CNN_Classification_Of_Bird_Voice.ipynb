{
 "cells": [
  {
   "cell_type": "code",
   "execution_count": 77,
   "id": "c7669f01",
   "metadata": {},
   "outputs": [
    {
     "name": "stdout",
     "output_type": "stream",
     "text": [
      "success\n"
     ]
    }
   ],
   "source": [
    "import tensorflow as tf\n",
    "from keras.preprocessing.image import ImageDataGenerator\n",
    "print('success')"
   ]
  },
  {
   "cell_type": "code",
   "execution_count": 78,
   "id": "1b900b22",
   "metadata": {},
   "outputs": [
    {
     "data": {
      "text/plain": [
       "'2.10.1'"
      ]
     },
     "execution_count": 78,
     "metadata": {},
     "output_type": "execute_result"
    }
   ],
   "source": [
    "tf.__version__"
   ]
  },
  {
   "cell_type": "code",
   "execution_count": 79,
   "id": "cfef3ec6",
   "metadata": {},
   "outputs": [
    {
     "name": "stdout",
     "output_type": "stream",
     "text": [
      "Found 57 images belonging to 3 classes.\n"
     ]
    }
   ],
   "source": [
    "train_datagen = ImageDataGenerator(rescale = 1./255,\n",
    "                                   shear_range = 0.2,\n",
    "                                   zoom_range = 0.2,\n",
    "                                   horizontal_flip = True)\n",
    "training_set = train_datagen.flow_from_directory('Spectrogram/Class/train/',\n",
    "                                                 target_size = (64, 64),\n",
    "                                                 batch_size = 8,\n",
    "                                                 class_mode = 'categorical')"
   ]
  },
  {
   "cell_type": "code",
   "execution_count": 80,
   "id": "719db019",
   "metadata": {},
   "outputs": [
    {
     "name": "stdout",
     "output_type": "stream",
     "text": [
      "Found 14 images belonging to 3 classes.\n"
     ]
    }
   ],
   "source": [
    "test_datagen = ImageDataGenerator(rescale = 1./255)\n",
    "test_set = test_datagen.flow_from_directory('Spectrogram/Class/test/',\n",
    "                                            target_size = (64, 64),\n",
    "                                            batch_size = 8,\n",
    "                                            class_mode = 'categorical')"
   ]
  },
  {
   "cell_type": "code",
   "execution_count": 85,
   "id": "62cfa546",
   "metadata": {},
   "outputs": [],
   "source": [
    "cnn=tf.keras.Sequential()\n",
    "cnn.add(tf.keras.layers.Conv2D(filters=20,padding='same',strides=2,kernel_size=3,activation='relu',input_shape=(64,64,3)))\n",
    "cnn.add(tf.keras.layers.MaxPool2D(pool_size=2,strides=2))\n",
    "\n",
    "cnn.add(tf.keras.layers.Conv2D(filters=22,padding='same',strides=2,kernel_size=3,activation='relu'))\n",
    "cnn.add(tf.keras.layers.MaxPool2D(pool_size=2,strides=2))\n",
    "\n",
    "cnn.add(tf.keras.layers.Conv2D(filters=24,padding='same',strides=2,kernel_size=3,activation='relu'))\n",
    "cnn.add(tf.keras.layers.MaxPool2D(pool_size=2))\n",
    "\n",
    "cnn.add(tf.keras.layers.Flatten())\n",
    "cnn.add(tf.keras.layers.Dense(3,activation='softmax'))"
   ]
  },
  {
   "cell_type": "code",
   "execution_count": 86,
   "id": "aac5739a",
   "metadata": {},
   "outputs": [],
   "source": [
    "cnn.compile(optimizer=tf.keras.optimizers.Adam(),loss='categorical_crossentropy',metrics=['accuracy'])"
   ]
  },
  {
   "cell_type": "code",
   "execution_count": null,
   "id": "0de75d36",
   "metadata": {},
   "outputs": [
    {
     "name": "stdout",
     "output_type": "stream",
     "text": [
      "Epoch 1/50\n",
      "8/8 [==============================] - 1s 99ms/step - loss: 0.4725 - accuracy: 0.7895 - val_loss: 0.7007 - val_accuracy: 0.6429\n",
      "Epoch 2/50\n",
      "8/8 [==============================] - 1s 88ms/step - loss: 0.4311 - accuracy: 0.8070 - val_loss: 0.7061 - val_accuracy: 0.7143\n",
      "Epoch 3/50\n",
      "8/8 [==============================] - 1s 86ms/step - loss: 0.4600 - accuracy: 0.7895 - val_loss: 0.6543 - val_accuracy: 0.7143\n",
      "Epoch 4/50\n",
      "8/8 [==============================] - 1s 91ms/step - loss: 0.4019 - accuracy: 0.8596 - val_loss: 0.6401 - val_accuracy: 0.7143\n",
      "Epoch 5/50\n",
      "8/8 [==============================] - 1s 87ms/step - loss: 0.4442 - accuracy: 0.7719 - val_loss: 0.5848 - val_accuracy: 0.7143\n",
      "Epoch 6/50\n",
      "8/8 [==============================] - 1s 88ms/step - loss: 0.4301 - accuracy: 0.7895 - val_loss: 0.7175 - val_accuracy: 0.6429\n",
      "Epoch 7/50\n",
      "8/8 [==============================] - 1s 86ms/step - loss: 0.4842 - accuracy: 0.7895 - val_loss: 0.6882 - val_accuracy: 0.7143\n",
      "Epoch 8/50\n",
      "8/8 [==============================] - 1s 86ms/step - loss: 0.4276 - accuracy: 0.8246 - val_loss: 0.6299 - val_accuracy: 0.7143\n",
      "Epoch 9/50\n",
      "8/8 [==============================] - 1s 93ms/step - loss: 0.3728 - accuracy: 0.8246 - val_loss: 0.5648 - val_accuracy: 0.7143\n",
      "Epoch 10/50\n",
      "8/8 [==============================] - 1s 87ms/step - loss: 0.3778 - accuracy: 0.8421 - val_loss: 0.4765 - val_accuracy: 0.7143\n",
      "Epoch 11/50\n",
      "8/8 [==============================] - 1s 86ms/step - loss: 0.3569 - accuracy: 0.8772 - val_loss: 0.4895 - val_accuracy: 0.7857\n",
      "Epoch 12/50\n",
      "7/8 [=========================>....] - ETA: 0s - loss: 0.3471 - accuracy: 0.8393"
     ]
    }
   ],
   "source": [
    "cnn.fit(training_set,validation_data=test_set, epochs=50,)"
   ]
  },
  {
   "cell_type": "code",
   "execution_count": 88,
   "id": "caf14608",
   "metadata": {},
   "outputs": [
    {
     "name": "stdout",
     "output_type": "stream",
     "text": [
      "2/2 - 0s - loss: 0.7081 - accuracy: 0.7143 - 143ms/epoch - 71ms/step\n",
      "Trained model, accuracy: 71.43%\n"
     ]
    }
   ],
   "source": [
    "# Evaluate the Model\n",
    "test_lavels = \"Test\"\n",
    "loss,acc = cnn.evaluate(test_set,verbose=2)\n",
    "print(\"Trained model, accuracy: {:5.2f}%\".format(100*acc))"
   ]
  },
  {
   "cell_type": "code",
   "execution_count": null,
   "id": "c25bb4a7",
   "metadata": {},
   "outputs": [],
   "source": []
  }
 ],
 "metadata": {
  "kernelspec": {
   "display_name": "Python 3 (ipykernel)",
   "language": "python",
   "name": "python3"
  },
  "language_info": {
   "codemirror_mode": {
    "name": "ipython",
    "version": 3
   },
   "file_extension": ".py",
   "mimetype": "text/x-python",
   "name": "python",
   "nbconvert_exporter": "python",
   "pygments_lexer": "ipython3",
   "version": "3.10.6"
  }
 },
 "nbformat": 4,
 "nbformat_minor": 5
}
